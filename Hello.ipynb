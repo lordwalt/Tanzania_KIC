{
 "cells": [
  {
   "cell_type": "code",
   "execution_count": 1,
   "id": "03d237f2-3ba0-4595-a143-32c4bedec706",
   "metadata": {},
   "outputs": [
    {
     "name": "stdout",
     "output_type": "stream",
     "text": [
      "Hello Earth\n"
     ]
    }
   ],
   "source": [
    "print(\"Hello Earth\")"
   ]
  },
  {
   "cell_type": "code",
   "execution_count": null,
   "id": "c74e2ee4-b724-4492-a32d-c3f1e985dbd2",
   "metadata": {},
   "outputs": [],
   "source": []
  }
 ],
 "metadata": {
  "kernelspec": {
   "display_name": "Python [conda env:base] *",
   "language": "python",
   "name": "conda-base-py"
  },
  "language_info": {
   "codemirror_mode": {
    "name": "ipython",
    "version": 3
   },
   "file_extension": ".py",
   "mimetype": "text/x-python",
   "name": "python",
   "nbconvert_exporter": "python",
   "pygments_lexer": "ipython3",
   "version": "3.12.7"
  }
 },
 "nbformat": 4,
 "nbformat_minor": 5
}
